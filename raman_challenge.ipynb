{
 "cells": [
  {
   "cell_type": "markdown",
   "metadata": {},
   "source": [
    "# Cell State Classifier Challenge"
   ]
  },
  {
   "cell_type": "markdown",
   "metadata": {},
   "source": [
    "### Challenge Description:\n",
    "Thank you for your interest in this challenge! Classifying cells by their cell type and cell state is very pertinent to our lab's work on the [Human Cell Atlas project](https://www.humancellatlas.org/). With the advent of [single-cell sequencing technology](https://en.wikipedia.org/wiki/Single_cell_sequencing) over the past decade, this task has become more feasible than ever before.  Individual cells have a variety of features that determine what *type* of cell they are (e.g. liver cell, brain cell) and also what *state* they're in (e.g. healthy cell, cell under stress, etc.)\n",
    "\n",
    "Our lab has done a lot of work using genomic and [transcriptomic](https://en.wikipedia.org/wiki/Transcriptome) features to classify cells. In this challenge, we'll consider the use of [Raman spectroscopy](https://en.wikipedia.org/wiki/Raman_spectroscopy) as another set of features. Raman (*pronounced Rah-mon*] spectroscopy extracts a spectral signal from individual cells that may be able to differentiate cells by their cell type and cell state.\n",
    "\n",
    "We've provided all the data for this challenge in `data/raman_data.csv`. Each of the rows represents the Raman spectra of one cell as well as its labeled condition. You can think of these condition labels as cell states. Each of the columns are either a Raman feature, a cell label, or other cellular metadata. The Raman features are called wavenumbers.\n",
    "\n",
    "To complete this challenge, please provide a detailed analysis of this data and use machine learning methods to draw scientific conclusions.  We encourage you to spend no more than 6 hours completing this challenge.\n",
    "\n",
    "**Please include your main findings in this notebook and make sure to address each of these points:**\n",
    "- Load and pre-process the spectral data provided (see `data/raman_data.csv`)\n",
    "- Create a classifier to assign cell state labels to spectral features\n",
    "- Evaluate the performance of the classifier\n",
    "- Interpret why the classifier is making decisions\n",
    "- Clearly state your scientifically-sound conclusions based on the results and visuals\n",
    "- Once finished, state approximately how long you spent on the challenge (in hours and minutes)\n",
    "\n",
    "\n",
    "When you're finished, please place this notebook and any other code you wrote into a zipped folder and e-mail to <tbiancal@broadinstitute.org>.\n"
   ]
  },
  {
   "cell_type": "code",
   "execution_count": null,
   "metadata": {},
   "outputs": [],
   "source": []
  },
  {
   "cell_type": "code",
   "execution_count": null,
   "metadata": {},
   "outputs": [],
   "source": []
  },
  {
   "cell_type": "markdown",
   "metadata": {},
   "source": [
    "When finished:<br>\n",
    "**Approximately how long did you spend on this challenge?**\n",
    "[X] hours, [Y] minutes"
   ]
  },
  {
   "cell_type": "code",
   "execution_count": null,
   "metadata": {},
   "outputs": [],
   "source": []
  }
 ],
 "metadata": {
  "kernelspec": {
   "display_name": "Python 3",
   "language": "python",
   "name": "python3"
  },
  "language_info": {
   "codemirror_mode": {
    "name": "ipython",
    "version": 3
   },
   "file_extension": ".py",
   "mimetype": "text/x-python",
   "name": "python",
   "nbconvert_exporter": "python",
   "pygments_lexer": "ipython3",
   "version": "3.7.6"
  }
 },
 "nbformat": 4,
 "nbformat_minor": 4
}
